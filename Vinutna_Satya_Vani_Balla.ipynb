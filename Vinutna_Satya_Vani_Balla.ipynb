{
 "cells": [
  {
   "cell_type": "code",
   "execution_count": 2,
   "id": "42cd01ac-6a1a-43b3-9799-cda66c5d4309",
   "metadata": {},
   "outputs": [],
   "source": [
    "import pandas as pd\n",
    "import numpy as np \n",
    "import matplotlib.pyplot as plt \n",
    "import seaborn as sns \n",
    "import plotly.express as px"
   ]
  },
  {
   "cell_type": "code",
   "execution_count": 33,
   "id": "d0c8e085",
   "metadata": {},
   "outputs": [],
   "source": [
    "#pip install plotly\n"
   ]
  },
  {
   "cell_type": "code",
   "execution_count": 3,
   "id": "27653c0b-fa1e-4666-b607-4f5c46eef7f0",
   "metadata": {},
   "outputs": [
    {
     "data": {
      "text/html": [
       "<div>\n",
       "<style scoped>\n",
       "    .dataframe tbody tr th:only-of-type {\n",
       "        vertical-align: middle;\n",
       "    }\n",
       "\n",
       "    .dataframe tbody tr th {\n",
       "        vertical-align: top;\n",
       "    }\n",
       "\n",
       "    .dataframe thead th {\n",
       "        text-align: right;\n",
       "    }\n",
       "</style>\n",
       "<table border=\"1\" class=\"dataframe\">\n",
       "  <thead>\n",
       "    <tr style=\"text-align: right;\">\n",
       "      <th></th>\n",
       "      <th>id</th>\n",
       "      <th>NAME</th>\n",
       "      <th>host id</th>\n",
       "      <th>host_identity_verified</th>\n",
       "      <th>host name</th>\n",
       "      <th>neighbourhood group</th>\n",
       "      <th>neighbourhood</th>\n",
       "      <th>lat</th>\n",
       "      <th>long</th>\n",
       "      <th>country</th>\n",
       "      <th>...</th>\n",
       "      <th>service fee</th>\n",
       "      <th>minimum nights</th>\n",
       "      <th>number of reviews</th>\n",
       "      <th>last review</th>\n",
       "      <th>reviews per month</th>\n",
       "      <th>review rate number</th>\n",
       "      <th>calculated host listings count</th>\n",
       "      <th>availability 365</th>\n",
       "      <th>house_rules</th>\n",
       "      <th>license</th>\n",
       "    </tr>\n",
       "  </thead>\n",
       "  <tbody>\n",
       "    <tr>\n",
       "      <th>0</th>\n",
       "      <td>1001254</td>\n",
       "      <td>Clean &amp; quiet apt home by the park</td>\n",
       "      <td>80014485718</td>\n",
       "      <td>unconfirmed</td>\n",
       "      <td>Madaline</td>\n",
       "      <td>Brooklyn</td>\n",
       "      <td>Kensington</td>\n",
       "      <td>40.64749</td>\n",
       "      <td>-73.97237</td>\n",
       "      <td>United States</td>\n",
       "      <td>...</td>\n",
       "      <td>193.0</td>\n",
       "      <td>10.0</td>\n",
       "      <td>9.0</td>\n",
       "      <td>2021-10-19</td>\n",
       "      <td>0.21</td>\n",
       "      <td>4.0</td>\n",
       "      <td>6.0</td>\n",
       "      <td>286.0</td>\n",
       "      <td>Clean up and treat the home the way you'd like...</td>\n",
       "      <td>NaN</td>\n",
       "    </tr>\n",
       "    <tr>\n",
       "      <th>1</th>\n",
       "      <td>1002102</td>\n",
       "      <td>Skylit Midtown Castle</td>\n",
       "      <td>52335172823</td>\n",
       "      <td>verified</td>\n",
       "      <td>Jenna</td>\n",
       "      <td>Manhattan</td>\n",
       "      <td>Midtown</td>\n",
       "      <td>40.75362</td>\n",
       "      <td>-73.98377</td>\n",
       "      <td>United States</td>\n",
       "      <td>...</td>\n",
       "      <td>28.0</td>\n",
       "      <td>30.0</td>\n",
       "      <td>45.0</td>\n",
       "      <td>2022-05-21</td>\n",
       "      <td>0.38</td>\n",
       "      <td>4.0</td>\n",
       "      <td>2.0</td>\n",
       "      <td>228.0</td>\n",
       "      <td>Pet friendly but please confirm with me if the...</td>\n",
       "      <td>NaN</td>\n",
       "    </tr>\n",
       "    <tr>\n",
       "      <th>2</th>\n",
       "      <td>1002403</td>\n",
       "      <td>THE VILLAGE OF HARLEM....NEW YORK !</td>\n",
       "      <td>78829239556</td>\n",
       "      <td>NaN</td>\n",
       "      <td>Elise</td>\n",
       "      <td>Manhattan</td>\n",
       "      <td>Harlem</td>\n",
       "      <td>40.80902</td>\n",
       "      <td>-73.94190</td>\n",
       "      <td>United States</td>\n",
       "      <td>...</td>\n",
       "      <td>124.0</td>\n",
       "      <td>3.0</td>\n",
       "      <td>0.0</td>\n",
       "      <td>NaT</td>\n",
       "      <td>NaN</td>\n",
       "      <td>5.0</td>\n",
       "      <td>1.0</td>\n",
       "      <td>352.0</td>\n",
       "      <td>I encourage you to use my kitchen, cooking and...</td>\n",
       "      <td>NaN</td>\n",
       "    </tr>\n",
       "    <tr>\n",
       "      <th>3</th>\n",
       "      <td>1002755</td>\n",
       "      <td>NaN</td>\n",
       "      <td>85098326012</td>\n",
       "      <td>unconfirmed</td>\n",
       "      <td>Garry</td>\n",
       "      <td>Brooklyn</td>\n",
       "      <td>Clinton Hill</td>\n",
       "      <td>40.68514</td>\n",
       "      <td>-73.95976</td>\n",
       "      <td>United States</td>\n",
       "      <td>...</td>\n",
       "      <td>74.0</td>\n",
       "      <td>30.0</td>\n",
       "      <td>270.0</td>\n",
       "      <td>2019-07-05</td>\n",
       "      <td>4.64</td>\n",
       "      <td>4.0</td>\n",
       "      <td>1.0</td>\n",
       "      <td>322.0</td>\n",
       "      <td>NaN</td>\n",
       "      <td>NaN</td>\n",
       "    </tr>\n",
       "    <tr>\n",
       "      <th>4</th>\n",
       "      <td>1003689</td>\n",
       "      <td>Entire Apt: Spacious Studio/Loft by central park</td>\n",
       "      <td>92037596077</td>\n",
       "      <td>verified</td>\n",
       "      <td>Lyndon</td>\n",
       "      <td>Manhattan</td>\n",
       "      <td>East Harlem</td>\n",
       "      <td>40.79851</td>\n",
       "      <td>-73.94399</td>\n",
       "      <td>United States</td>\n",
       "      <td>...</td>\n",
       "      <td>41.0</td>\n",
       "      <td>10.0</td>\n",
       "      <td>9.0</td>\n",
       "      <td>2018-11-19</td>\n",
       "      <td>0.10</td>\n",
       "      <td>3.0</td>\n",
       "      <td>1.0</td>\n",
       "      <td>289.0</td>\n",
       "      <td>Please no smoking in the house, porch or on th...</td>\n",
       "      <td>NaN</td>\n",
       "    </tr>\n",
       "    <tr>\n",
       "      <th>...</th>\n",
       "      <td>...</td>\n",
       "      <td>...</td>\n",
       "      <td>...</td>\n",
       "      <td>...</td>\n",
       "      <td>...</td>\n",
       "      <td>...</td>\n",
       "      <td>...</td>\n",
       "      <td>...</td>\n",
       "      <td>...</td>\n",
       "      <td>...</td>\n",
       "      <td>...</td>\n",
       "      <td>...</td>\n",
       "      <td>...</td>\n",
       "      <td>...</td>\n",
       "      <td>...</td>\n",
       "      <td>...</td>\n",
       "      <td>...</td>\n",
       "      <td>...</td>\n",
       "      <td>...</td>\n",
       "      <td>...</td>\n",
       "      <td>...</td>\n",
       "    </tr>\n",
       "    <tr>\n",
       "      <th>102594</th>\n",
       "      <td>6092437</td>\n",
       "      <td>Spare room in Williamsburg</td>\n",
       "      <td>12312296767</td>\n",
       "      <td>verified</td>\n",
       "      <td>Krik</td>\n",
       "      <td>Brooklyn</td>\n",
       "      <td>Williamsburg</td>\n",
       "      <td>40.70862</td>\n",
       "      <td>-73.94651</td>\n",
       "      <td>United States</td>\n",
       "      <td>...</td>\n",
       "      <td>169.0</td>\n",
       "      <td>1.0</td>\n",
       "      <td>0.0</td>\n",
       "      <td>NaT</td>\n",
       "      <td>NaN</td>\n",
       "      <td>3.0</td>\n",
       "      <td>1.0</td>\n",
       "      <td>227.0</td>\n",
       "      <td>No Smoking No Parties or Events of any kind Pl...</td>\n",
       "      <td>NaN</td>\n",
       "    </tr>\n",
       "    <tr>\n",
       "      <th>102595</th>\n",
       "      <td>6092990</td>\n",
       "      <td>Best Location near Columbia U</td>\n",
       "      <td>77864383453</td>\n",
       "      <td>unconfirmed</td>\n",
       "      <td>Mifan</td>\n",
       "      <td>Manhattan</td>\n",
       "      <td>Morningside Heights</td>\n",
       "      <td>40.80460</td>\n",
       "      <td>-73.96545</td>\n",
       "      <td>United States</td>\n",
       "      <td>...</td>\n",
       "      <td>167.0</td>\n",
       "      <td>1.0</td>\n",
       "      <td>1.0</td>\n",
       "      <td>2015-07-06</td>\n",
       "      <td>0.02</td>\n",
       "      <td>2.0</td>\n",
       "      <td>2.0</td>\n",
       "      <td>395.0</td>\n",
       "      <td>House rules: Guests agree to the following ter...</td>\n",
       "      <td>NaN</td>\n",
       "    </tr>\n",
       "    <tr>\n",
       "      <th>102596</th>\n",
       "      <td>6093542</td>\n",
       "      <td>Comfy, bright room in Brooklyn</td>\n",
       "      <td>69050334417</td>\n",
       "      <td>unconfirmed</td>\n",
       "      <td>Megan</td>\n",
       "      <td>Brooklyn</td>\n",
       "      <td>Park Slope</td>\n",
       "      <td>40.67505</td>\n",
       "      <td>-73.98045</td>\n",
       "      <td>United States</td>\n",
       "      <td>...</td>\n",
       "      <td>198.0</td>\n",
       "      <td>3.0</td>\n",
       "      <td>0.0</td>\n",
       "      <td>NaT</td>\n",
       "      <td>NaN</td>\n",
       "      <td>5.0</td>\n",
       "      <td>1.0</td>\n",
       "      <td>342.0</td>\n",
       "      <td>NaN</td>\n",
       "      <td>NaN</td>\n",
       "    </tr>\n",
       "    <tr>\n",
       "      <th>102597</th>\n",
       "      <td>6094094</td>\n",
       "      <td>Big Studio-One Stop from Midtown</td>\n",
       "      <td>11160591270</td>\n",
       "      <td>unconfirmed</td>\n",
       "      <td>Christopher</td>\n",
       "      <td>Queens</td>\n",
       "      <td>Long Island City</td>\n",
       "      <td>40.74989</td>\n",
       "      <td>-73.93777</td>\n",
       "      <td>United States</td>\n",
       "      <td>...</td>\n",
       "      <td>109.0</td>\n",
       "      <td>2.0</td>\n",
       "      <td>5.0</td>\n",
       "      <td>2015-10-11</td>\n",
       "      <td>0.10</td>\n",
       "      <td>3.0</td>\n",
       "      <td>1.0</td>\n",
       "      <td>386.0</td>\n",
       "      <td>NaN</td>\n",
       "      <td>NaN</td>\n",
       "    </tr>\n",
       "    <tr>\n",
       "      <th>102598</th>\n",
       "      <td>6094647</td>\n",
       "      <td>585 sf Luxury Studio</td>\n",
       "      <td>68170633372</td>\n",
       "      <td>unconfirmed</td>\n",
       "      <td>Rebecca</td>\n",
       "      <td>Manhattan</td>\n",
       "      <td>Upper West Side</td>\n",
       "      <td>40.76807</td>\n",
       "      <td>-73.98342</td>\n",
       "      <td>United States</td>\n",
       "      <td>...</td>\n",
       "      <td>206.0</td>\n",
       "      <td>1.0</td>\n",
       "      <td>0.0</td>\n",
       "      <td>NaT</td>\n",
       "      <td>NaN</td>\n",
       "      <td>3.0</td>\n",
       "      <td>1.0</td>\n",
       "      <td>69.0</td>\n",
       "      <td>NaN</td>\n",
       "      <td>NaN</td>\n",
       "    </tr>\n",
       "  </tbody>\n",
       "</table>\n",
       "<p>102599 rows × 26 columns</p>\n",
       "</div>"
      ],
      "text/plain": [
       "             id                                              NAME  \\\n",
       "0       1001254                Clean & quiet apt home by the park   \n",
       "1       1002102                             Skylit Midtown Castle   \n",
       "2       1002403               THE VILLAGE OF HARLEM....NEW YORK !   \n",
       "3       1002755                                               NaN   \n",
       "4       1003689  Entire Apt: Spacious Studio/Loft by central park   \n",
       "...         ...                                               ...   \n",
       "102594  6092437                        Spare room in Williamsburg   \n",
       "102595  6092990                     Best Location near Columbia U   \n",
       "102596  6093542                    Comfy, bright room in Brooklyn   \n",
       "102597  6094094                  Big Studio-One Stop from Midtown   \n",
       "102598  6094647                              585 sf Luxury Studio   \n",
       "\n",
       "            host id host_identity_verified    host name neighbourhood group  \\\n",
       "0       80014485718            unconfirmed     Madaline            Brooklyn   \n",
       "1       52335172823               verified        Jenna           Manhattan   \n",
       "2       78829239556                    NaN        Elise           Manhattan   \n",
       "3       85098326012            unconfirmed        Garry            Brooklyn   \n",
       "4       92037596077               verified       Lyndon           Manhattan   \n",
       "...             ...                    ...          ...                 ...   \n",
       "102594  12312296767               verified         Krik            Brooklyn   \n",
       "102595  77864383453            unconfirmed        Mifan           Manhattan   \n",
       "102596  69050334417            unconfirmed        Megan            Brooklyn   \n",
       "102597  11160591270            unconfirmed  Christopher              Queens   \n",
       "102598  68170633372            unconfirmed      Rebecca           Manhattan   \n",
       "\n",
       "              neighbourhood       lat      long        country  ...  \\\n",
       "0                Kensington  40.64749 -73.97237  United States  ...   \n",
       "1                   Midtown  40.75362 -73.98377  United States  ...   \n",
       "2                    Harlem  40.80902 -73.94190  United States  ...   \n",
       "3              Clinton Hill  40.68514 -73.95976  United States  ...   \n",
       "4               East Harlem  40.79851 -73.94399  United States  ...   \n",
       "...                     ...       ...       ...            ...  ...   \n",
       "102594         Williamsburg  40.70862 -73.94651  United States  ...   \n",
       "102595  Morningside Heights  40.80460 -73.96545  United States  ...   \n",
       "102596           Park Slope  40.67505 -73.98045  United States  ...   \n",
       "102597     Long Island City  40.74989 -73.93777  United States  ...   \n",
       "102598      Upper West Side  40.76807 -73.98342  United States  ...   \n",
       "\n",
       "       service fee  minimum nights number of reviews last review  \\\n",
       "0            193.0            10.0               9.0  2021-10-19   \n",
       "1             28.0            30.0              45.0  2022-05-21   \n",
       "2            124.0             3.0               0.0         NaT   \n",
       "3             74.0            30.0             270.0  2019-07-05   \n",
       "4             41.0            10.0               9.0  2018-11-19   \n",
       "...            ...             ...               ...         ...   \n",
       "102594       169.0             1.0               0.0         NaT   \n",
       "102595       167.0             1.0               1.0  2015-07-06   \n",
       "102596       198.0             3.0               0.0         NaT   \n",
       "102597       109.0             2.0               5.0  2015-10-11   \n",
       "102598       206.0             1.0               0.0         NaT   \n",
       "\n",
       "        reviews per month  review rate number  calculated host listings count  \\\n",
       "0                    0.21                 4.0                             6.0   \n",
       "1                    0.38                 4.0                             2.0   \n",
       "2                     NaN                 5.0                             1.0   \n",
       "3                    4.64                 4.0                             1.0   \n",
       "4                    0.10                 3.0                             1.0   \n",
       "...                   ...                 ...                             ...   \n",
       "102594                NaN                 3.0                             1.0   \n",
       "102595               0.02                 2.0                             2.0   \n",
       "102596                NaN                 5.0                             1.0   \n",
       "102597               0.10                 3.0                             1.0   \n",
       "102598                NaN                 3.0                             1.0   \n",
       "\n",
       "        availability 365                                        house_rules  \\\n",
       "0                  286.0  Clean up and treat the home the way you'd like...   \n",
       "1                  228.0  Pet friendly but please confirm with me if the...   \n",
       "2                  352.0  I encourage you to use my kitchen, cooking and...   \n",
       "3                  322.0                                                NaN   \n",
       "4                  289.0  Please no smoking in the house, porch or on th...   \n",
       "...                  ...                                                ...   \n",
       "102594             227.0  No Smoking No Parties or Events of any kind Pl...   \n",
       "102595             395.0  House rules: Guests agree to the following ter...   \n",
       "102596             342.0                                                NaN   \n",
       "102597             386.0                                                NaN   \n",
       "102598              69.0                                                NaN   \n",
       "\n",
       "       license  \n",
       "0          NaN  \n",
       "1          NaN  \n",
       "2          NaN  \n",
       "3          NaN  \n",
       "4          NaN  \n",
       "...        ...  \n",
       "102594     NaN  \n",
       "102595     NaN  \n",
       "102596     NaN  \n",
       "102597     NaN  \n",
       "102598     NaN  \n",
       "\n",
       "[102599 rows x 26 columns]"
      ]
     },
     "execution_count": 3,
     "metadata": {},
     "output_type": "execute_result"
    }
   ],
   "source": [
    "df=pd.read_excel(\"/home/rguktongole/Downloads/Airbnb_Open_Data.xlsx\")\n",
    "df"
   ]
  },
  {
   "cell_type": "code",
   "execution_count": 4,
   "id": "7ad09987-7509-4db9-b7f4-dd140378035c",
   "metadata": {},
   "outputs": [
    {
     "name": "stdout",
     "output_type": "stream",
     "text": [
      "<class 'pandas.core.frame.DataFrame'>\n",
      "RangeIndex: 102599 entries, 0 to 102598\n",
      "Data columns (total 26 columns):\n",
      " #   Column                          Non-Null Count   Dtype         \n",
      "---  ------                          --------------   -----         \n",
      " 0   id                              102599 non-null  int64         \n",
      " 1   NAME                            102329 non-null  object        \n",
      " 2   host id                         102599 non-null  int64         \n",
      " 3   host_identity_verified          102310 non-null  object        \n",
      " 4   host name                       102191 non-null  object        \n",
      " 5   neighbourhood group             102570 non-null  object        \n",
      " 6   neighbourhood                   102583 non-null  object        \n",
      " 7   lat                             102591 non-null  float64       \n",
      " 8   long                            102591 non-null  float64       \n",
      " 9   country                         102067 non-null  object        \n",
      " 10  country code                    102468 non-null  object        \n",
      " 11  instant_bookable                102494 non-null  float64       \n",
      " 12  cancellation_policy             102523 non-null  object        \n",
      " 13  room type                       102599 non-null  object        \n",
      " 14  Construction year               102385 non-null  float64       \n",
      " 15  price                           102352 non-null  float64       \n",
      " 16  service fee                     102326 non-null  float64       \n",
      " 17  minimum nights                  102190 non-null  float64       \n",
      " 18  number of reviews               102416 non-null  float64       \n",
      " 19  last review                     86706 non-null   datetime64[ns]\n",
      " 20  reviews per month               86720 non-null   float64       \n",
      " 21  review rate number              102273 non-null  float64       \n",
      " 22  calculated host listings count  102280 non-null  float64       \n",
      " 23  availability 365                102151 non-null  float64       \n",
      " 24  house_rules                     47756 non-null   object        \n",
      " 25  license                         2 non-null       object        \n",
      "dtypes: datetime64[ns](1), float64(12), int64(2), object(11)\n",
      "memory usage: 20.4+ MB\n"
     ]
    }
   ],
   "source": [
    "df.info()"
   ]
  },
  {
   "cell_type": "code",
   "execution_count": 34,
   "id": "943651e5",
   "metadata": {},
   "outputs": [],
   "source": [
    "#pip install openpyxl"
   ]
  },
  {
   "cell_type": "code",
   "execution_count": 5,
   "id": "f1a5106c-90b1-414c-bc6e-bf16ebcf9d80",
   "metadata": {},
   "outputs": [
    {
     "data": {
      "text/plain": [
       "False    102058\n",
       "True        541\n",
       "Name: count, dtype: int64"
      ]
     },
     "execution_count": 5,
     "metadata": {},
     "output_type": "execute_result"
    }
   ],
   "source": [
    "df.duplicated().value_counts()"
   ]
  },
  {
   "cell_type": "code",
   "execution_count": 6,
   "id": "6e0211c7-f520-46b9-b003-8201971f855b",
   "metadata": {},
   "outputs": [
    {
     "data": {
      "text/html": [
       "<div>\n",
       "<style scoped>\n",
       "    .dataframe tbody tr th:only-of-type {\n",
       "        vertical-align: middle;\n",
       "    }\n",
       "\n",
       "    .dataframe tbody tr th {\n",
       "        vertical-align: top;\n",
       "    }\n",
       "\n",
       "    .dataframe thead th {\n",
       "        text-align: right;\n",
       "    }\n",
       "</style>\n",
       "<table border=\"1\" class=\"dataframe\">\n",
       "  <thead>\n",
       "    <tr style=\"text-align: right;\">\n",
       "      <th></th>\n",
       "      <th>id</th>\n",
       "      <th>NAME</th>\n",
       "      <th>host id</th>\n",
       "      <th>host_identity_verified</th>\n",
       "      <th>host name</th>\n",
       "      <th>neighbourhood group</th>\n",
       "      <th>neighbourhood</th>\n",
       "      <th>lat</th>\n",
       "      <th>long</th>\n",
       "      <th>country</th>\n",
       "      <th>...</th>\n",
       "      <th>service fee</th>\n",
       "      <th>minimum nights</th>\n",
       "      <th>number of reviews</th>\n",
       "      <th>last review</th>\n",
       "      <th>reviews per month</th>\n",
       "      <th>review rate number</th>\n",
       "      <th>calculated host listings count</th>\n",
       "      <th>availability 365</th>\n",
       "      <th>house_rules</th>\n",
       "      <th>license</th>\n",
       "    </tr>\n",
       "  </thead>\n",
       "  <tbody>\n",
       "    <tr>\n",
       "      <th>13</th>\n",
       "      <td>1008516</td>\n",
       "      <td>Lovely Room 1, Garden, Best Area, Legal rental</td>\n",
       "      <td>26802410424</td>\n",
       "      <td>verified</td>\n",
       "      <td>Darcy</td>\n",
       "      <td>brookln</td>\n",
       "      <td>South Slope</td>\n",
       "      <td>40.66829</td>\n",
       "      <td>-73.98779</td>\n",
       "      <td>United States</td>\n",
       "      <td>...</td>\n",
       "      <td>116.0</td>\n",
       "      <td>4.0</td>\n",
       "      <td>167.0</td>\n",
       "      <td>2019-06-24</td>\n",
       "      <td>1.34</td>\n",
       "      <td>4.0</td>\n",
       "      <td>3.0</td>\n",
       "      <td>47.0</td>\n",
       "      <td>NaN</td>\n",
       "      <td>NaN</td>\n",
       "    </tr>\n",
       "  </tbody>\n",
       "</table>\n",
       "<p>1 rows × 26 columns</p>\n",
       "</div>"
      ],
      "text/plain": [
       "         id                                            NAME      host id  \\\n",
       "13  1008516  Lovely Room 1, Garden, Best Area, Legal rental  26802410424   \n",
       "\n",
       "   host_identity_verified host name neighbourhood group neighbourhood  \\\n",
       "13               verified     Darcy             brookln   South Slope   \n",
       "\n",
       "         lat      long        country  ... service fee  minimum nights  \\\n",
       "13  40.66829 -73.98779  United States  ...       116.0             4.0   \n",
       "\n",
       "   number of reviews last review  reviews per month  review rate number  \\\n",
       "13             167.0  2019-06-24               1.34                 4.0   \n",
       "\n",
       "    calculated host listings count  availability 365  house_rules license  \n",
       "13                             3.0              47.0          NaN     NaN  \n",
       "\n",
       "[1 rows x 26 columns]"
      ]
     },
     "execution_count": 6,
     "metadata": {},
     "output_type": "execute_result"
    }
   ],
   "source": [
    "df[df[\"neighbourhood group\"]==\"brookln\"]"
   ]
  },
  {
   "cell_type": "code",
   "execution_count": 7,
   "id": "c76f827e-a305-4819-8979-194ba2c3224f",
   "metadata": {},
   "outputs": [],
   "source": [
    "df.drop_duplicates(inplace=True)"
   ]
  },
  {
   "cell_type": "code",
   "execution_count": 8,
   "id": "9afc29c5-2dd5-4e4a-9eb9-b59862d01446",
   "metadata": {},
   "outputs": [
    {
     "data": {
      "text/plain": [
       "price          float64\n",
       "service fee    float64\n",
       "dtype: object"
      ]
     },
     "execution_count": 8,
     "metadata": {},
     "output_type": "execute_result"
    }
   ],
   "source": [
    "df[[\"price\", \"service fee\"]].dtypes"
   ]
  },
  {
   "cell_type": "code",
   "execution_count": 9,
   "id": "718fc5cf-81fa-4db5-b138-72428f35281c",
   "metadata": {},
   "outputs": [
    {
     "name": "stdout",
     "output_type": "stream",
     "text": [
      "count    101811.000000\n",
      "mean        625.355580\n",
      "std         331.672649\n",
      "min          50.000000\n",
      "25%         340.000000\n",
      "50%         625.000000\n",
      "75%         913.000000\n",
      "max        1200.000000\n",
      "Name: price, dtype: float64\n",
      "count    101785.000000\n",
      "mean        125.039249\n",
      "std          66.325905\n",
      "min          10.000000\n",
      "25%          68.000000\n",
      "50%         125.000000\n",
      "75%         183.000000\n",
      "max         240.000000\n",
      "Name: service fee, dtype: float64\n"
     ]
    }
   ],
   "source": [
    "print(df[\"price\"].describe())       # summary statistics\n",
    "print(df[\"service fee\"].describe())"
   ]
  },
  {
   "cell_type": "code",
   "execution_count": 10,
   "id": "ca8e58ca-74e4-431b-b31e-ffb646ef3185",
   "metadata": {},
   "outputs": [],
   "source": [
    "#remove house_rules and license with insufficent\n",
    "df.drop([\"house_rules\",\"license\"],axis=1,inplace=True)"
   ]
  },
  {
   "cell_type": "code",
   "execution_count": 11,
   "id": "6d4152e9-2fa2-4099-8091-ce0356faa6be",
   "metadata": {},
   "outputs": [],
   "source": [
    "#replace dollar sign in price and service_free\n",
    "df[\"price\"]=df[\"price\"].replace('$','', regex=False)\n",
    "df[\"service fee\"]=df[\"service fee\"].replace('$','', regex=False)\n",
    "#replace comma in price and service_free\n",
    "df[\"price\"]=df[\"price\"].replace(',','', regex=False)\n",
    "df[\"service fee\"]=df[\"service fee\"].replace(',','', regex=False)"
   ]
  },
  {
   "cell_type": "code",
   "execution_count": 12,
   "id": "0c1289d1-d252-44fc-b128-cc65ec779afa",
   "metadata": {},
   "outputs": [],
   "source": [
    "df.rename(columns={\"price\":\"price_$\",\"service fee\":\"service_fee_$\"},inplace=True)"
   ]
  },
  {
   "cell_type": "code",
   "execution_count": 13,
   "id": "021c4b16-8ac6-4118-9157-a8ac0572cd01",
   "metadata": {},
   "outputs": [],
   "source": [
    "df.dropna(inplace=True)"
   ]
  },
  {
   "cell_type": "code",
   "execution_count": 14,
   "id": "c44c6a21-6fca-4a30-9380-b9eab7b97121",
   "metadata": {},
   "outputs": [],
   "source": [
    "df[\"host id\"]=df[\"host id\"].astype(str)\n",
    "df[\"id\"]=df[\"id\"].astype(str)\n",
    "df[\"Construction year\"]=df[\"Construction year\"].astype(int)"
   ]
  },
  {
   "cell_type": "code",
   "execution_count": 15,
   "id": "0b995e75-78cf-4edb-a6d5-916274f3571f",
   "metadata": {},
   "outputs": [
    {
     "data": {
      "text/plain": [
       "13    False\n",
       "Name: neighbourhood group, dtype: bool"
      ]
     },
     "execution_count": 15,
     "metadata": {},
     "output_type": "execute_result"
    }
   ],
   "source": [
    "#correct the brookln with Brooklyn\n",
    "df.loc[df[\"neighbourhood group\"]==\"brookln\",\"neighbourhood group\"]==\"Brooklyn\""
   ]
  },
  {
   "cell_type": "code",
   "execution_count": 16,
   "id": "f3d6cc38-fcb7-44df-a13e-4e7ebdc36925",
   "metadata": {},
   "outputs": [],
   "source": [
    "#drop outliers that greater than 500\n",
    "df=df.drop(df[df[\"availability 365\"]>500].index)"
   ]
  },
  {
   "cell_type": "code",
   "execution_count": 17,
   "id": "8787f80d-97d7-4bd7-8fde-49208dca51e3",
   "metadata": {},
   "outputs": [
    {
     "name": "stdout",
     "output_type": "stream",
     "text": [
      "<class 'pandas.core.frame.DataFrame'>\n",
      "Index: 83389 entries, 0 to 102040\n",
      "Data columns (total 24 columns):\n",
      " #   Column                          Non-Null Count  Dtype         \n",
      "---  ------                          --------------  -----         \n",
      " 0   id                              83389 non-null  object        \n",
      " 1   NAME                            83389 non-null  object        \n",
      " 2   host id                         83389 non-null  object        \n",
      " 3   host_identity_verified          83389 non-null  object        \n",
      " 4   host name                       83389 non-null  object        \n",
      " 5   neighbourhood group             83389 non-null  object        \n",
      " 6   neighbourhood                   83389 non-null  object        \n",
      " 7   lat                             83389 non-null  float64       \n",
      " 8   long                            83389 non-null  float64       \n",
      " 9   country                         83389 non-null  object        \n",
      " 10  country code                    83389 non-null  object        \n",
      " 11  instant_bookable                83389 non-null  float64       \n",
      " 12  cancellation_policy             83389 non-null  object        \n",
      " 13  room type                       83389 non-null  object        \n",
      " 14  Construction year               83389 non-null  int64         \n",
      " 15  price_$                         83389 non-null  float64       \n",
      " 16  service_fee_$                   83389 non-null  float64       \n",
      " 17  minimum nights                  83389 non-null  float64       \n",
      " 18  number of reviews               83389 non-null  float64       \n",
      " 19  last review                     83389 non-null  datetime64[ns]\n",
      " 20  reviews per month               83389 non-null  float64       \n",
      " 21  review rate number              83389 non-null  float64       \n",
      " 22  calculated host listings count  83389 non-null  float64       \n",
      " 23  availability 365                83389 non-null  float64       \n",
      "dtypes: datetime64[ns](1), float64(11), int64(1), object(11)\n",
      "memory usage: 15.9+ MB\n"
     ]
    }
   ],
   "source": [
    "df.info()"
   ]
  },
  {
   "cell_type": "code",
   "execution_count": 18,
   "id": "8c02552e-8b91-4843-8f22-39fe4552818d",
   "metadata": {},
   "outputs": [
    {
     "data": {
      "text/plain": [
       "False    83389\n",
       "Name: count, dtype: int64"
      ]
     },
     "execution_count": 18,
     "metadata": {},
     "output_type": "execute_result"
    }
   ],
   "source": [
    "df.duplicated().value_counts()"
   ]
  },
  {
   "cell_type": "markdown",
   "id": "af38f542-e84e-4655-9b12-a4bba28250e0",
   "metadata": {},
   "source": [
    "# EXPLORATORY DATA ANALYSIS"
   ]
  },
  {
   "cell_type": "code",
   "execution_count": 19,
   "id": "5f075e4b-7caa-46a2-886c-6965eeae2e92",
   "metadata": {},
   "outputs": [
    {
     "data": {
      "text/html": [
       "<div>\n",
       "<style scoped>\n",
       "    .dataframe tbody tr th:only-of-type {\n",
       "        vertical-align: middle;\n",
       "    }\n",
       "\n",
       "    .dataframe tbody tr th {\n",
       "        vertical-align: top;\n",
       "    }\n",
       "\n",
       "    .dataframe thead th {\n",
       "        text-align: right;\n",
       "    }\n",
       "</style>\n",
       "<table border=\"1\" class=\"dataframe\">\n",
       "  <thead>\n",
       "    <tr style=\"text-align: right;\">\n",
       "      <th></th>\n",
       "      <th>lat</th>\n",
       "      <th>long</th>\n",
       "      <th>instant_bookable</th>\n",
       "      <th>Construction year</th>\n",
       "      <th>price_$</th>\n",
       "      <th>service_fee_$</th>\n",
       "      <th>minimum nights</th>\n",
       "      <th>number of reviews</th>\n",
       "      <th>last review</th>\n",
       "      <th>reviews per month</th>\n",
       "      <th>review rate number</th>\n",
       "      <th>calculated host listings count</th>\n",
       "      <th>availability 365</th>\n",
       "    </tr>\n",
       "  </thead>\n",
       "  <tbody>\n",
       "    <tr>\n",
       "      <th>count</th>\n",
       "      <td>83389.000000</td>\n",
       "      <td>83389.000000</td>\n",
       "      <td>83389.000000</td>\n",
       "      <td>83389.000000</td>\n",
       "      <td>83389.000000</td>\n",
       "      <td>83389.000000</td>\n",
       "      <td>83389.000000</td>\n",
       "      <td>83389.000000</td>\n",
       "      <td>83389</td>\n",
       "      <td>83389.000000</td>\n",
       "      <td>83389.000000</td>\n",
       "      <td>83389.000000</td>\n",
       "      <td>83389.000000</td>\n",
       "    </tr>\n",
       "    <tr>\n",
       "      <th>mean</th>\n",
       "      <td>40.727349</td>\n",
       "      <td>-73.948502</td>\n",
       "      <td>0.497704</td>\n",
       "      <td>2012.487810</td>\n",
       "      <td>626.209668</td>\n",
       "      <td>125.243114</td>\n",
       "      <td>7.406109</td>\n",
       "      <td>32.261305</td>\n",
       "      <td>2019-06-08 21:32:53.396971008</td>\n",
       "      <td>1.377352</td>\n",
       "      <td>3.278694</td>\n",
       "      <td>7.032894</td>\n",
       "      <td>141.746369</td>\n",
       "    </tr>\n",
       "    <tr>\n",
       "      <th>min</th>\n",
       "      <td>40.504560</td>\n",
       "      <td>-74.249840</td>\n",
       "      <td>0.000000</td>\n",
       "      <td>2003.000000</td>\n",
       "      <td>50.000000</td>\n",
       "      <td>10.000000</td>\n",
       "      <td>-365.000000</td>\n",
       "      <td>1.000000</td>\n",
       "      <td>2012-07-11 00:00:00</td>\n",
       "      <td>0.010000</td>\n",
       "      <td>1.000000</td>\n",
       "      <td>1.000000</td>\n",
       "      <td>-10.000000</td>\n",
       "    </tr>\n",
       "    <tr>\n",
       "      <th>25%</th>\n",
       "      <td>40.687640</td>\n",
       "      <td>-73.982110</td>\n",
       "      <td>0.000000</td>\n",
       "      <td>2007.000000</td>\n",
       "      <td>340.000000</td>\n",
       "      <td>68.000000</td>\n",
       "      <td>2.000000</td>\n",
       "      <td>3.000000</td>\n",
       "      <td>2018-10-25 00:00:00</td>\n",
       "      <td>0.220000</td>\n",
       "      <td>2.000000</td>\n",
       "      <td>1.000000</td>\n",
       "      <td>6.000000</td>\n",
       "    </tr>\n",
       "    <tr>\n",
       "      <th>50%</th>\n",
       "      <td>40.721320</td>\n",
       "      <td>-73.953710</td>\n",
       "      <td>0.000000</td>\n",
       "      <td>2012.000000</td>\n",
       "      <td>625.000000</td>\n",
       "      <td>125.000000</td>\n",
       "      <td>3.000000</td>\n",
       "      <td>11.000000</td>\n",
       "      <td>2019-06-13 00:00:00</td>\n",
       "      <td>0.740000</td>\n",
       "      <td>3.000000</td>\n",
       "      <td>1.000000</td>\n",
       "      <td>101.000000</td>\n",
       "    </tr>\n",
       "    <tr>\n",
       "      <th>75%</th>\n",
       "      <td>40.762600</td>\n",
       "      <td>-73.930800</td>\n",
       "      <td>1.000000</td>\n",
       "      <td>2017.000000</td>\n",
       "      <td>914.000000</td>\n",
       "      <td>183.000000</td>\n",
       "      <td>5.000000</td>\n",
       "      <td>38.000000</td>\n",
       "      <td>2019-07-05 00:00:00</td>\n",
       "      <td>2.010000</td>\n",
       "      <td>4.000000</td>\n",
       "      <td>2.000000</td>\n",
       "      <td>266.000000</td>\n",
       "    </tr>\n",
       "    <tr>\n",
       "      <th>max</th>\n",
       "      <td>40.916970</td>\n",
       "      <td>-73.705220</td>\n",
       "      <td>1.000000</td>\n",
       "      <td>2022.000000</td>\n",
       "      <td>1200.000000</td>\n",
       "      <td>240.000000</td>\n",
       "      <td>5645.000000</td>\n",
       "      <td>1024.000000</td>\n",
       "      <td>2022-05-21 00:00:00</td>\n",
       "      <td>90.000000</td>\n",
       "      <td>5.000000</td>\n",
       "      <td>332.000000</td>\n",
       "      <td>426.000000</td>\n",
       "    </tr>\n",
       "    <tr>\n",
       "      <th>std</th>\n",
       "      <td>0.056326</td>\n",
       "      <td>0.050342</td>\n",
       "      <td>0.499998</td>\n",
       "      <td>5.760526</td>\n",
       "      <td>331.803443</td>\n",
       "      <td>66.364212</td>\n",
       "      <td>28.105563</td>\n",
       "      <td>51.954290</td>\n",
       "      <td>NaN</td>\n",
       "      <td>1.751091</td>\n",
       "      <td>1.283678</td>\n",
       "      <td>29.555458</td>\n",
       "      <td>133.377544</td>\n",
       "    </tr>\n",
       "  </tbody>\n",
       "</table>\n",
       "</div>"
      ],
      "text/plain": [
       "                lat          long  instant_bookable  Construction year  \\\n",
       "count  83389.000000  83389.000000      83389.000000       83389.000000   \n",
       "mean      40.727349    -73.948502          0.497704        2012.487810   \n",
       "min       40.504560    -74.249840          0.000000        2003.000000   \n",
       "25%       40.687640    -73.982110          0.000000        2007.000000   \n",
       "50%       40.721320    -73.953710          0.000000        2012.000000   \n",
       "75%       40.762600    -73.930800          1.000000        2017.000000   \n",
       "max       40.916970    -73.705220          1.000000        2022.000000   \n",
       "std        0.056326      0.050342          0.499998           5.760526   \n",
       "\n",
       "            price_$  service_fee_$  minimum nights  number of reviews  \\\n",
       "count  83389.000000   83389.000000    83389.000000       83389.000000   \n",
       "mean     626.209668     125.243114        7.406109          32.261305   \n",
       "min       50.000000      10.000000     -365.000000           1.000000   \n",
       "25%      340.000000      68.000000        2.000000           3.000000   \n",
       "50%      625.000000     125.000000        3.000000          11.000000   \n",
       "75%      914.000000     183.000000        5.000000          38.000000   \n",
       "max     1200.000000     240.000000     5645.000000        1024.000000   \n",
       "std      331.803443      66.364212       28.105563          51.954290   \n",
       "\n",
       "                         last review  reviews per month  review rate number  \\\n",
       "count                          83389       83389.000000        83389.000000   \n",
       "mean   2019-06-08 21:32:53.396971008           1.377352            3.278694   \n",
       "min              2012-07-11 00:00:00           0.010000            1.000000   \n",
       "25%              2018-10-25 00:00:00           0.220000            2.000000   \n",
       "50%              2019-06-13 00:00:00           0.740000            3.000000   \n",
       "75%              2019-07-05 00:00:00           2.010000            4.000000   \n",
       "max              2022-05-21 00:00:00          90.000000            5.000000   \n",
       "std                              NaN           1.751091            1.283678   \n",
       "\n",
       "       calculated host listings count  availability 365  \n",
       "count                    83389.000000      83389.000000  \n",
       "mean                         7.032894        141.746369  \n",
       "min                          1.000000        -10.000000  \n",
       "25%                          1.000000          6.000000  \n",
       "50%                          1.000000        101.000000  \n",
       "75%                          2.000000        266.000000  \n",
       "max                        332.000000        426.000000  \n",
       "std                         29.555458        133.377544  "
      ]
     },
     "execution_count": 19,
     "metadata": {},
     "output_type": "execute_result"
    }
   ],
   "source": [
    "df.describe()"
   ]
  },
  {
   "cell_type": "code",
   "execution_count": 20,
   "id": "4abed25c-d4ea-4d40-96ba-dd9de28feaa2",
   "metadata": {},
   "outputs": [
    {
     "data": {
      "text/html": [
       "<div>\n",
       "<style scoped>\n",
       "    .dataframe tbody tr th:only-of-type {\n",
       "        vertical-align: middle;\n",
       "    }\n",
       "\n",
       "    .dataframe tbody tr th {\n",
       "        vertical-align: top;\n",
       "    }\n",
       "\n",
       "    .dataframe thead th {\n",
       "        text-align: right;\n",
       "    }\n",
       "</style>\n",
       "<table border=\"1\" class=\"dataframe\">\n",
       "  <thead>\n",
       "    <tr style=\"text-align: right;\">\n",
       "      <th></th>\n",
       "      <th>count</th>\n",
       "    </tr>\n",
       "    <tr>\n",
       "      <th>room type</th>\n",
       "      <th></th>\n",
       "    </tr>\n",
       "  </thead>\n",
       "  <tbody>\n",
       "    <tr>\n",
       "      <th>Entire home/apt</th>\n",
       "      <td>44161</td>\n",
       "    </tr>\n",
       "    <tr>\n",
       "      <th>Private room</th>\n",
       "      <td>37474</td>\n",
       "    </tr>\n",
       "    <tr>\n",
       "      <th>Shared room</th>\n",
       "      <td>1646</td>\n",
       "    </tr>\n",
       "    <tr>\n",
       "      <th>Hotel room</th>\n",
       "      <td>108</td>\n",
       "    </tr>\n",
       "  </tbody>\n",
       "</table>\n",
       "</div>"
      ],
      "text/plain": [
       "                 count\n",
       "room type             \n",
       "Entire home/apt  44161\n",
       "Private room     37474\n",
       "Shared room       1646\n",
       "Hotel room         108"
      ]
     },
     "execution_count": 20,
     "metadata": {},
     "output_type": "execute_result"
    }
   ],
   "source": [
    "p_t=df[\"room type\"].value_counts().to_frame()\n",
    "p_t"
   ]
  },
  {
   "cell_type": "code",
   "execution_count": 21,
   "id": "7155d0a3-56ed-4d46-8a24-de2d8343e588",
   "metadata": {},
   "outputs": [
    {
     "data": {
      "image/png": "[encoded data removed]",
      "text/plain": [
       "<Figure size 432x288 with 1 Axes>"
      ]
     },
     "metadata": {
      "needs_background": "light"
     },
     "output_type": "display_data"
    }
   ],
   "source": [
    "room_t_b=plt.bar(p_t.index,p_t.loc[:,\"count\"] )\n",
    "plt.bar_label(room_t_b,labels=p_t.loc[:,\"count\"],padding=4)\n",
    "plt.ylim(0,50000)\n",
    "plt.ylabel(\"Room Type\")\n",
    "plt.xlabel(\"Room Count\")\n",
    "plt.title(\"Properity type and their count in Dataset\")\n",
    "plt.show()"
   ]
  },
  {
   "cell_type": "markdown",
   "id": "b646d01a-ea7a-4c9a-a61c-c45c31f49cc6",
   "metadata": {},
   "source": [
    "* Entire homes/apartments are the most common property type (44,161 listings)\n",
    "* Private rooms are also highly prevalent (37,474 listings)\n",
    "* Shared rooms and hotel rooms represent a very small portion of the market"
   ]
  },
  {
   "cell_type": "code",
   "execution_count": 22,
   "id": "fbe2339b-1086-4468-8f09-62a4d7a767c0",
   "metadata": {},
   "outputs": [
    {
     "data": {
      "text/html": [
       "<div>\n",
       "<style scoped>\n",
       "    .dataframe tbody tr th:only-of-type {\n",
       "        vertical-align: middle;\n",
       "    }\n",
       "\n",
       "    .dataframe tbody tr th {\n",
       "        vertical-align: top;\n",
       "    }\n",
       "\n",
       "    .dataframe thead th {\n",
       "        text-align: right;\n",
       "    }\n",
       "</style>\n",
       "<table border=\"1\" class=\"dataframe\">\n",
       "  <thead>\n",
       "    <tr style=\"text-align: right;\">\n",
       "      <th></th>\n",
       "      <th>count</th>\n",
       "    </tr>\n",
       "    <tr>\n",
       "      <th>neighbourhood group</th>\n",
       "      <th></th>\n",
       "    </tr>\n",
       "  </thead>\n",
       "  <tbody>\n",
       "    <tr>\n",
       "      <th>Brooklyn</th>\n",
       "      <td>34621</td>\n",
       "    </tr>\n",
       "    <tr>\n",
       "      <th>Manhattan</th>\n",
       "      <td>34560</td>\n",
       "    </tr>\n",
       "    <tr>\n",
       "      <th>Queens</th>\n",
       "      <td>11124</td>\n",
       "    </tr>\n",
       "    <tr>\n",
       "      <th>Bronx</th>\n",
       "      <td>2267</td>\n",
       "    </tr>\n",
       "    <tr>\n",
       "      <th>Staten Island</th>\n",
       "      <td>816</td>\n",
       "    </tr>\n",
       "    <tr>\n",
       "      <th>brookln</th>\n",
       "      <td>1</td>\n",
       "    </tr>\n",
       "  </tbody>\n",
       "</table>\n",
       "</div>"
      ],
      "text/plain": [
       "                     count\n",
       "neighbourhood group       \n",
       "Brooklyn             34621\n",
       "Manhattan            34560\n",
       "Queens               11124\n",
       "Bronx                 2267\n",
       "Staten Island          816\n",
       "brookln                  1"
      ]
     },
     "execution_count": 22,
     "metadata": {},
     "output_type": "execute_result"
    }
   ],
   "source": [
    "hood_group=df[\"neighbourhood group\"].value_counts().to_frame()\n",
    "hood_group"
   ]
  },
  {
   "cell_type": "code",
   "execution_count": 30,
   "id": "786d64a1-b404-483e-b715-05002c03092a",
   "metadata": {},
   "outputs": [
    {
     "data": {
      "image/png": "[encoded data removed]",
      "text/plain": [
       "<Figure size 640x480 with 1 Axes>"
      ]
     },
     "metadata": {},
     "output_type": "display_data"
    }
   ],
   "source": [
    "hood_group_b=plt.bar(hood_group.index,hood_group.loc[:,\"count\"] )\n",
    "plt.bar_label(hood_group_b,labels=hood_group.loc[:,\"count\"],padding=4)\n",
    "plt.ylim(0,40000)\n",
    "plt.ylabel(\"neighbourhood group\ttype\")\n",
    "plt.xlabel(\"neighbourhood group\tCount\")\n",
    "plt.title(\"neighbourhood group type and their count in Dataset\")\n",
    "#plt.xticks(rotation=45)\n",
    "plt.show()"
   ]
  },
  {
   "cell_type": "markdown",
   "id": "d1b1e76e-d959-435e-9fcc-e184625a93c7",
   "metadata": {},
   "source": [
    "* Brooklyn and Manhattan dominate the Airbnb market with nearly equal listings (~34,600 each)\n",
    "* Queens has a significant presence (11,124 listings)\n",
    "* Bronx and Staten Island have relatively few listings, with Staten Island being the least represented"
   ]
  },
  {
   "cell_type": "code",
   "execution_count": 24,
   "id": "7c03fbf6-2d4c-4f5b-8cb7-927f28b794a7",
   "metadata": {},
   "outputs": [
    {
     "name": "stderr",
     "output_type": "stream",
     "text": [
      "/usr/lib/python3/dist-packages/IPython/core/pylabtools.py:151: UserWarning: Glyph 9 (\t) missing from font(s) DejaVu Sans.\n",
      "  fig.canvas.print_figure(bytes_io, **kw)\n"
     ]
    },
    {
     "data": {
      "image/png": "[encoded data removed]",
      "text/plain": [
       "<Figure size 432x288 with 1 Axes>"
      ]
     },
     "metadata": {
      "needs_background": "light"
     },
     "output_type": "display_data"
    }
   ],
   "source": [
    "avg_price=df.groupby(\"neighbourhood group\")[\"price_$\"].mean().sort_values(ascending=False).to_frame()\n",
    "avg_price_bar=plt.bar(avg_price.index,avg_price.loc[:,\"price_$\"])\n",
    "plt.bar_label(avg_price_bar,label=round(avg_price.loc[:,\"price_$\"],2),label_type='edge',padding=4)\n",
    "plt.ylim([0,700])\n",
    "plt.ylabel(\"Avg_price listing('$')\")\n",
    "plt.xlabel(\"neighbourhood group\tCount\")\n",
    "plt.title(\"neighbourhood group avg_price_listing\")\n",
    "plt.xticks(rotation=45)\n",
    "plt.show()"
   ]
  },
  {
   "cell_type": "code",
   "execution_count": 25,
   "id": "d6188093-01fe-4a1c-8872-44af38fbaca5",
   "metadata": {},
   "outputs": [
    {
     "data": {
      "text/plain": [
       "Text(0.5, 1.0, 'Avg_price for each properity in construction year')"
      ]
     },
     "execution_count": 25,
     "metadata": {},
     "output_type": "execute_result"
    },
    {
     "data": {
      "image/png": "[encoded data removed]",
      "text/plain": [
       "<Figure size 432x288 with 1 Axes>"
      ]
     },
     "metadata": {
      "needs_background": "light"
     },
     "output_type": "display_data"
    }
   ],
   "source": [
    "df.groupby(df[\"Construction year\"])[\"price_$\"].mean().to_frame().plot()\n",
    "plt.ylabel(\"Avg_price($)\")\n",
    "plt.title(\"Avg_price for each properity in construction year\")"
   ]
  },
  {
   "cell_type": "markdown",
   "id": "9f6d7f5d-6b38-4794-acb4-75b3fafabc1b",
   "metadata": {},
   "source": [
    "### Top 10 hosts by calculated host listing count"
   ]
  },
  {
   "cell_type": "code",
   "execution_count": 26,
   "id": "fbe18559-7d48-4043-9d60-b33f90025ca2",
   "metadata": {},
   "outputs": [
    {
     "data": {
      "image/png": "[encoded data removed]",
      "text/plain": [
       "<Figure size 432x288 with 1 Axes>"
      ]
     },
     "metadata": {
      "needs_background": "light"
     },
     "output_type": "display_data"
    }
   ],
   "source": [
    "hosts=df.groupby(\"host name\")[\"calculated host listings count\"].sum().sort_values(ascending=False).nlargest(10).to_frame()\n",
    "hosts_bar=plt.bar(hosts.index,hosts.loc[:,\"calculated host listings count\"])\n",
    "plt.bar_label(hosts_bar,label=round(hosts.loc[:,\"calculated host listings count\"],2),label_type='edge',padding=4)\n",
    "plt.ylim(0,120000)\n",
    "plt.ylabel(\"calculated host listings count\")\n",
    "plt.xlabel(\"hosts names\")\n",
    "plt.title(\"Top 10 hosts by calculated host listing count\")\n",
    "plt.xticks(rotation=45)\n",
    "plt.show()"
   ]
  },
  {
   "cell_type": "code",
   "execution_count": 27,
   "id": "0c3caceb-0562-4ff3-959a-689630949ce3",
   "metadata": {},
   "outputs": [
    {
     "data": {
      "text/html": [
       "<div>\n",
       "<style scoped>\n",
       "    .dataframe tbody tr th:only-of-type {\n",
       "        vertical-align: middle;\n",
       "    }\n",
       "\n",
       "    .dataframe tbody tr th {\n",
       "        vertical-align: top;\n",
       "    }\n",
       "\n",
       "    .dataframe thead th {\n",
       "        text-align: right;\n",
       "    }\n",
       "</style>\n",
       "<table border=\"1\" class=\"dataframe\">\n",
       "  <thead>\n",
       "    <tr style=\"text-align: right;\">\n",
       "      <th></th>\n",
       "      <th>review rate number</th>\n",
       "    </tr>\n",
       "    <tr>\n",
       "      <th>host_identity_verified</th>\n",
       "      <th></th>\n",
       "    </tr>\n",
       "  </thead>\n",
       "  <tbody>\n",
       "    <tr>\n",
       "      <th>verified</th>\n",
       "      <td>3.284066</td>\n",
       "    </tr>\n",
       "    <tr>\n",
       "      <th>unconfirmed</th>\n",
       "      <td>3.273325</td>\n",
       "    </tr>\n",
       "  </tbody>\n",
       "</table>\n",
       "</div>"
      ],
      "text/plain": [
       "                        review rate number\n",
       "host_identity_verified                    \n",
       "verified                          3.284066\n",
       "unconfirmed                       3.273325"
      ]
     },
     "execution_count": 27,
     "metadata": {},
     "output_type": "execute_result"
    }
   ],
   "source": [
    "review=df.groupby(\"host_identity_verified\")[\"review rate number\"].mean().sort_values(ascending=False).to_frame()\n",
    "review"
   ]
  },
  {
   "cell_type": "code",
   "execution_count": 28,
   "id": "7616ad1a-459e-490b-9d1c-39244b4a7901",
   "metadata": {},
   "outputs": [
    {
     "data": {
      "image/png": "[encoded data removed]",
      "text/plain": [
       "<Figure size 432x288 with 1 Axes>"
      ]
     },
     "metadata": {
      "needs_background": "light"
     },
     "output_type": "display_data"
    }
   ],
   "source": [
    "review_bar=plt.bar(review.index,review.loc[:,\"review rate number\"])\n",
    "plt.bar_label(review_bar,label=round(review.loc[:,\"review rate number\"],2),label_type='edge',padding=4)\n",
    "plt.ylim([0,4])\n",
    "plt.ylabel(\"review rate number\")\n",
    "plt.xlabel(\"Avg_rate of host_identity_verified\")\n",
    "plt.title(\"Avg review rate for each verification stastics\")\n",
    "plt.show()"
   ]
  },
  {
   "cell_type": "code",
   "execution_count": 52,
   "id": "9d522bfc-3cfa-4a69-a8e0-b8b5590f8fe8",
   "metadata": {},
   "outputs": [
    {
     "data": {
      "text/plain": [
       "<Axes: xlabel='host_identity_verified', ylabel='review rate number'>"
      ]
     },
     "execution_count": 52,
     "metadata": {},
     "output_type": "execute_result"
    },
    {
     "data": {
      "image/png": "[encoded data removed]",
      "text/plain": [
       "<Figure size 640x480 with 1 Axes>"
      ]
     },
     "metadata": {},
     "output_type": "display_data"
    }
   ],
   "source": [
    "base_color=sns.color_palette()[0]\n",
    "sns.boxplot(data=df,x=\"host_identity_verified\",y=\"review rate number\",color=base_color)"
   ]
  },
  {
   "cell_type": "code",
   "execution_count": 29,
   "id": "003b95f9-350a-4eb7-ad9d-9dca81e5410a",
   "metadata": {},
   "outputs": [
    {
     "data": {
      "text/plain": [
       "0.9999909082976466"
      ]
     },
     "execution_count": 29,
     "metadata": {},
     "output_type": "execute_result"
    }
   ],
   "source": [
    "df[\"price_$\"].corr(df[\"service_fee_$\"])"
   ]
  },
  {
   "cell_type": "code",
   "execution_count": 56,
   "id": "925e02b3-97dd-48ba-aa4e-77cd6cfa09e3",
   "metadata": {},
   "outputs": [
    {
     "data": {
      "text/plain": [
       "<Axes: xlabel='price_$', ylabel='service_fee_$'>"
      ]
     },
     "execution_count": 56,
     "metadata": {},
     "output_type": "execute_result"
    },
    {
     "data": {
      "image/png": "[encoded data removed]",
      "text/plain": [
       "<Figure size 640x480 with 1 Axes>"
      ]
     },
     "metadata": {},
     "output_type": "display_data"
    }
   ],
   "source": [
    "sns.regplot(df,x=\"price_$\",y=\"service_fee_$\")"
   ]
  },
  {
   "cell_type": "code",
   "execution_count": 30,
   "id": "a4fd7c66-9051-432c-8513-83ecb5a14e7a",
   "metadata": {},
   "outputs": [
    {
     "data": {
      "text/html": [
       "<div>\n",
       "<style scoped>\n",
       "    .dataframe tbody tr th:only-of-type {\n",
       "        vertical-align: middle;\n",
       "    }\n",
       "\n",
       "    .dataframe tbody tr th {\n",
       "        vertical-align: top;\n",
       "    }\n",
       "\n",
       "    .dataframe thead th {\n",
       "        text-align: right;\n",
       "    }\n",
       "</style>\n",
       "<table border=\"1\" class=\"dataframe\">\n",
       "  <thead>\n",
       "    <tr style=\"text-align: right;\">\n",
       "      <th></th>\n",
       "      <th></th>\n",
       "      <th>review rate number</th>\n",
       "    </tr>\n",
       "    <tr>\n",
       "      <th>neighbourhood group</th>\n",
       "      <th>room type</th>\n",
       "      <th></th>\n",
       "    </tr>\n",
       "  </thead>\n",
       "  <tbody>\n",
       "    <tr>\n",
       "      <th rowspan=\"3\" valign=\"top\">Bronx</th>\n",
       "      <th>Entire home/apt</th>\n",
       "      <td>3.381881</td>\n",
       "    </tr>\n",
       "    <tr>\n",
       "      <th>Private room</th>\n",
       "      <td>3.305810</td>\n",
       "    </tr>\n",
       "    <tr>\n",
       "      <th>Shared room</th>\n",
       "      <td>3.356322</td>\n",
       "    </tr>\n",
       "    <tr>\n",
       "      <th rowspan=\"4\" valign=\"top\">Brooklyn</th>\n",
       "      <th>Entire home/apt</th>\n",
       "      <td>3.242491</td>\n",
       "    </tr>\n",
       "    <tr>\n",
       "      <th>Hotel room</th>\n",
       "      <td>3.833333</td>\n",
       "    </tr>\n",
       "    <tr>\n",
       "      <th>Private room</th>\n",
       "      <td>3.274728</td>\n",
       "    </tr>\n",
       "    <tr>\n",
       "      <th>Shared room</th>\n",
       "      <td>3.323383</td>\n",
       "    </tr>\n",
       "    <tr>\n",
       "      <th rowspan=\"4\" valign=\"top\">Manhattan</th>\n",
       "      <th>Entire home/apt</th>\n",
       "      <td>3.268846</td>\n",
       "    </tr>\n",
       "    <tr>\n",
       "      <th>Hotel room</th>\n",
       "      <td>3.500000</td>\n",
       "    </tr>\n",
       "    <tr>\n",
       "      <th>Private room</th>\n",
       "      <td>3.285431</td>\n",
       "    </tr>\n",
       "    <tr>\n",
       "      <th>Shared room</th>\n",
       "      <td>3.261976</td>\n",
       "    </tr>\n",
       "    <tr>\n",
       "      <th rowspan=\"4\" valign=\"top\">Queens</th>\n",
       "      <th>Entire home/apt</th>\n",
       "      <td>3.349528</td>\n",
       "    </tr>\n",
       "    <tr>\n",
       "      <th>Hotel room</th>\n",
       "      <td>3.750000</td>\n",
       "    </tr>\n",
       "    <tr>\n",
       "      <th>Private room</th>\n",
       "      <td>3.310847</td>\n",
       "    </tr>\n",
       "    <tr>\n",
       "      <th>Shared room</th>\n",
       "      <td>3.327402</td>\n",
       "    </tr>\n",
       "    <tr>\n",
       "      <th rowspan=\"3\" valign=\"top\">Staten Island</th>\n",
       "      <th>Entire home/apt</th>\n",
       "      <td>3.333333</td>\n",
       "    </tr>\n",
       "    <tr>\n",
       "      <th>Private room</th>\n",
       "      <td>3.497449</td>\n",
       "    </tr>\n",
       "    <tr>\n",
       "      <th>Shared room</th>\n",
       "      <td>3.714286</td>\n",
       "    </tr>\n",
       "    <tr>\n",
       "      <th>brookln</th>\n",
       "      <th>Private room</th>\n",
       "      <td>4.000000</td>\n",
       "    </tr>\n",
       "  </tbody>\n",
       "</table>\n",
       "</div>"
      ],
      "text/plain": [
       "                                     review rate number\n",
       "neighbourhood group room type                          \n",
       "Bronx               Entire home/apt            3.381881\n",
       "                    Private room               3.305810\n",
       "                    Shared room                3.356322\n",
       "Brooklyn            Entire home/apt            3.242491\n",
       "                    Hotel room                 3.833333\n",
       "                    Private room               3.274728\n",
       "                    Shared room                3.323383\n",
       "Manhattan           Entire home/apt            3.268846\n",
       "                    Hotel room                 3.500000\n",
       "                    Private room               3.285431\n",
       "                    Shared room                3.261976\n",
       "Queens              Entire home/apt            3.349528\n",
       "                    Hotel room                 3.750000\n",
       "                    Private room               3.310847\n",
       "                    Shared room                3.327402\n",
       "Staten Island       Entire home/apt            3.333333\n",
       "                    Private room               3.497449\n",
       "                    Shared room                3.714286\n",
       "brookln             Private room               4.000000"
      ]
     },
     "execution_count": 30,
     "metadata": {},
     "output_type": "execute_result"
    }
   ],
   "source": [
    "ARRN=df.groupby([\"neighbourhood group\",\"room type\"])[\"review rate number\"].mean().to_frame()\n",
    "ARRN"
   ]
  },
  {
   "cell_type": "code",
   "execution_count": 31,
   "id": "9741cacc-4660-4a6e-be04-fe949ec256fd",
   "metadata": {},
   "outputs": [
    {
     "data": {
      "text/plain": [
       "<Axes: xlabel='neighbourhood group', ylabel='review rate number'>"
      ]
     },
     "execution_count": 31,
     "metadata": {},
     "output_type": "execute_result"
    },
    {
     "data": {
      "image/png": "[encoded data removed]",
      "text/plain": [
       "<Figure size 864x720 with 1 Axes>"
      ]
     },
     "metadata": {
      "needs_background": "light"
     },
     "output_type": "display_data"
    }
   ],
   "source": [
    "plt.figure(figsize=(12,10))\n",
    "sns.barplot(data=df,x=\"neighbourhood group\",y=\"review rate number\",hue=\"room type\")"
   ]
  },
  {
   "cell_type": "code",
   "execution_count": 60,
   "id": "4215e899-10bd-4d2f-a079-626b3a4c1cbf",
   "metadata": {},
   "outputs": [
    {
     "data": {
      "text/plain": [
       "<Axes: xlabel='calculated host listings count', ylabel='availability 365'>"
      ]
     },
     "execution_count": 60,
     "metadata": {},
     "output_type": "execute_result"
    },
    {
     "data": {
      "image/png": "[encoded data removed]",
      "text/plain": [
       "<Figure size 640x480 with 1 Axes>"
      ]
     },
     "metadata": {},
     "output_type": "display_data"
    }
   ],
   "source": [
    "sns.regplot(df,x=\"calculated host listings count\",y=\"availability 365\")"
   ]
  },
  {
   "cell_type": "code",
   "execution_count": 32,
   "id": "8964c96b-9eef-4ca0-8359-cf9e112dac6d",
   "metadata": {},
   "outputs": [
    {
     "data": {
      "text/plain": [
       "0.1359971471570339"
      ]
     },
     "execution_count": 32,
     "metadata": {},
     "output_type": "execute_result"
    }
   ],
   "source": [
    "df[\"calculated host listings count\"].corr(df[\"availability 365\"])"
   ]
  },
  {
   "cell_type": "markdown",
   "id": "4308f16c-d398-472f-bf24-ecf9d236a7c3",
   "metadata": {},
   "source": [
    "# Conclusion\n",
    "* This Airbnb dataset analysis reveals a comprehensive picture of the New York City short-term rental market. The data shows a mature market dominated by entire homes and private rooms, primarily concentrated in Brooklyn and Manhattan. The cleaning process was extensive but necessary, resulting in a high-quality dataset for further analysis.\n",
    "\n",
    "* The pricing structure suggests a premium market with significant service fees, while the availability patterns indicate many properties are used frequently for short-term rentals. The concentration in specific boroughs and property types could inform business strategies for both hosts and platform operators."
   ]
  },
  {
   "cell_type": "code",
   "execution_count": null,
   "id": "62d69078-ed16-407b-a8c5-8c2cf8072f3c",
   "metadata": {},
   "outputs": [],
   "source": []
  },
  {
   "cell_type": "code",
   "execution_count": null,
   "id": "45bfce1a-ab08-4824-8107-2b86ba1a370c",
   "metadata": {},
   "outputs": [],
   "source": []
  }
 ],
 "metadata": {
  "kernelspec": {
   "display_name": "Python 3 (ipykernel)",
   "language": "python",
   "name": "python3"
  },
  "language_info": {
   "codemirror_mode": {
    "name": "ipython",
    "version": 3
   },
   "file_extension": ".py",
   "mimetype": "text/x-python",
   "name": "python",
   "nbconvert_exporter": "python",
   "pygments_lexer": "ipython3",
   "version": "3.10.12"
  }
 },
 "nbformat": 4,
 "nbformat_minor": 5
}
